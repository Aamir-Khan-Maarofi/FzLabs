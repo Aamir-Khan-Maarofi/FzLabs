{
  "nbformat": 4,
  "nbformat_minor": 0,
  "metadata": {
    "colab": {
      "name": "image_match_demo_00.ipynb",
      "provenance": []
    },
    "kernelspec": {
      "name": "python3",
      "display_name": "Python 3"
    }
  },
  "cells": [
    {
      "cell_type": "code",
      "metadata": {
        "id": "cNyE1vV_Q9j_",
        "colab_type": "code",
        "colab": {}
      },
      "source": [
        "!pip install image_match"
      ],
      "execution_count": null,
      "outputs": []
    },
    {
      "cell_type": "code",
      "metadata": {
        "id": "852xz8uPNjJW",
        "colab_type": "code",
        "colab": {
          "base_uri": "https://localhost:8080/",
          "height": 207
        },
        "outputId": "f030853e-951f-41cf-8e4e-80c9b0246e1b"
      },
      "source": [
        "!pip install imagehash"
      ],
      "execution_count": null,
      "outputs": [
        {
          "output_type": "stream",
          "text": [
            "Collecting imagehash\n",
            "\u001b[?25l  Downloading https://files.pythonhosted.org/packages/58/47/e639093d67f54e59163f9d259575a10bd16e4d0ff3bb1259ba64b9c77a42/ImageHash-4.0-py2.py3-none-any.whl (295kB)\n",
            "\r\u001b[K     |█                               | 10kB 17.6MB/s eta 0:00:01\r\u001b[K     |██▏                             | 20kB 1.7MB/s eta 0:00:01\r\u001b[K     |███▎                            | 30kB 2.3MB/s eta 0:00:01\r\u001b[K     |████▍                           | 40kB 2.5MB/s eta 0:00:01\r\u001b[K     |█████▌                          | 51kB 2.0MB/s eta 0:00:01\r\u001b[K     |██████▋                         | 61kB 2.3MB/s eta 0:00:01\r\u001b[K     |███████▊                        | 71kB 2.5MB/s eta 0:00:01\r\u001b[K     |████████▉                       | 81kB 2.7MB/s eta 0:00:01\r\u001b[K     |██████████                      | 92kB 2.9MB/s eta 0:00:01\r\u001b[K     |███████████                     | 102kB 2.8MB/s eta 0:00:01\r\u001b[K     |████████████▏                   | 112kB 2.8MB/s eta 0:00:01\r\u001b[K     |█████████████▎                  | 122kB 2.8MB/s eta 0:00:01\r\u001b[K     |██████████████▍                 | 133kB 2.8MB/s eta 0:00:01\r\u001b[K     |███████████████▌                | 143kB 2.8MB/s eta 0:00:01\r\u001b[K     |████████████████▋               | 153kB 2.8MB/s eta 0:00:01\r\u001b[K     |█████████████████▊              | 163kB 2.8MB/s eta 0:00:01\r\u001b[K     |██████████████████▉             | 174kB 2.8MB/s eta 0:00:01\r\u001b[K     |████████████████████            | 184kB 2.8MB/s eta 0:00:01\r\u001b[K     |█████████████████████           | 194kB 2.8MB/s eta 0:00:01\r\u001b[K     |██████████████████████▏         | 204kB 2.8MB/s eta 0:00:01\r\u001b[K     |███████████████████████▎        | 215kB 2.8MB/s eta 0:00:01\r\u001b[K     |████████████████████████▍       | 225kB 2.8MB/s eta 0:00:01\r\u001b[K     |█████████████████████████▌      | 235kB 2.8MB/s eta 0:00:01\r\u001b[K     |██████████████████████████▋     | 245kB 2.8MB/s eta 0:00:01\r\u001b[K     |███████████████████████████▊    | 256kB 2.8MB/s eta 0:00:01\r\u001b[K     |████████████████████████████▉   | 266kB 2.8MB/s eta 0:00:01\r\u001b[K     |██████████████████████████████  | 276kB 2.8MB/s eta 0:00:01\r\u001b[K     |███████████████████████████████ | 286kB 2.8MB/s eta 0:00:01\r\u001b[K     |████████████████████████████████| 296kB 2.8MB/s \n",
            "\u001b[?25hRequirement already satisfied: pillow in /usr/local/lib/python3.6/dist-packages (from imagehash) (7.0.0)\n",
            "Requirement already satisfied: scipy in /usr/local/lib/python3.6/dist-packages (from imagehash) (1.4.1)\n",
            "Requirement already satisfied: numpy in /usr/local/lib/python3.6/dist-packages (from imagehash) (1.18.2)\n",
            "Requirement already satisfied: pywavelets in /usr/local/lib/python3.6/dist-packages (from imagehash) (1.1.1)\n",
            "Requirement already satisfied: six in /usr/local/lib/python3.6/dist-packages (from imagehash) (1.12.0)\n",
            "Installing collected packages: imagehash\n",
            "Successfully installed imagehash-4.0\n"
          ],
          "name": "stdout"
        }
      ]
    },
    {
      "cell_type": "code",
      "metadata": {
        "id": "RshqwTbURzf6",
        "colab_type": "code",
        "colab": {}
      },
      "source": [
        "from image_match.goldberg import ImageSignature"
      ],
      "execution_count": null,
      "outputs": []
    },
    {
      "cell_type": "code",
      "metadata": {
        "id": "AD1sj69YR4xH",
        "colab_type": "code",
        "colab": {}
      },
      "source": [
        "gis = ImageSignature()"
      ],
      "execution_count": null,
      "outputs": []
    },
    {
      "cell_type": "code",
      "metadata": {
        "id": "-95CP8ZwRwMP",
        "colab_type": "code",
        "colab": {}
      },
      "source": [
        "def compare_images(query_image_url, candidate_image_url, threshold = 0.40):\n",
        "    query_image = gis.generate_signature(query_image_url)\n",
        "    candidate_image = gis.generate_signature(candidate_image_url)\n",
        "    normalized_dist = gis.normalized_distance(query_image, candidate_image)\n",
        "    is_duplicate = normalized_dist <= threshold\n",
        "    return is_duplicate"
      ],
      "execution_count": null,
      "outputs": []
    },
    {
      "cell_type": "code",
      "metadata": {
        "id": "oyVYfo75SD_N",
        "colab_type": "code",
        "colab": {
          "base_uri": "https://localhost:8080/",
          "height": 34
        },
        "outputId": "ccb415be-0fba-45ac-d075-1f217eedcf60"
      },
      "source": [
        "a = 'https://upload.wikimedia.org/wikipedia/commons/thumb/e/ec/Mona_Lisa,_by_Leonardo_da_Vinci,_from_C2RMF_retouched.jpg/687px-Mona_Lisa,_by_Leonardo_da_Vinci,_from_C2RMF_retouched.jpg'\n",
        "b = 'https://upload.wikimedia.org/wikipedia/commons/2/25/Da_Vinci%27s_Mona_Lisa_with_original_colors_approximation.jpg'\n",
        "compare_images (a, b)"
      ],
      "execution_count": null,
      "outputs": [
        {
          "output_type": "execute_result",
          "data": {
            "text/plain": [
              "True"
            ]
          },
          "metadata": {
            "tags": []
          },
          "execution_count": 30
        }
      ]
    },
    {
      "cell_type": "code",
      "metadata": {
        "id": "ZdZ9EuYUR9wy",
        "colab_type": "code",
        "colab": {}
      },
      "source": [
        ""
      ],
      "execution_count": null,
      "outputs": []
    },
    {
      "cell_type": "code",
      "metadata": {
        "id": "vJZwjmk1MwhE",
        "colab_type": "code",
        "colab": {
          "base_uri": "https://localhost:8080/",
          "height": 34
        },
        "outputId": "e64350a9-e3ce-442e-9881-4267c8b6b31b"
      },
      "source": [
        "gis.normalized_distance(b, _) - gis.normalized_distance(a, _)"
      ],
      "execution_count": null,
      "outputs": [
        {
          "output_type": "execute_result",
          "data": {
            "text/plain": [
              "-0.0011591846369287673"
            ]
          },
          "metadata": {
            "tags": []
          },
          "execution_count": 19
        }
      ]
    },
    {
      "cell_type": "code",
      "metadata": {
        "id": "e6J8v0--NhM1",
        "colab_type": "code",
        "colab": {
          "base_uri": "https://localhost:8080/",
          "height": 34
        },
        "outputId": "2c618284-b03f-42c6-bb0c-35ebbf8600a8"
      },
      "source": [
        "from PIL import Image\n",
        "import imagehash\n",
        "import urllib.request as request\n",
        "import io\n",
        "\n",
        "url = 'https://upload.wikimedia.org/wikipedia/commons/e/e0/Caravaggio_-_Cena_in_Emmaus.jpg'\n",
        "fd = request.urlopen(url)\n",
        "image_file = io.BytesIO(fd.read())\n",
        "hash = imagehash.average_hash(Image.open(image_file))\n",
        "print(hash)"
      ],
      "execution_count": null,
      "outputs": [
        {
          "output_type": "stream",
          "text": [
            "7060b08e1b7c7680\n"
          ],
          "name": "stdout"
        }
      ]
    },
    {
      "cell_type": "code",
      "metadata": {
        "id": "3EAnt6BbS7tQ",
        "colab_type": "code",
        "colab": {
          "base_uri": "https://localhost:8080/",
          "height": 34
        },
        "outputId": "c26173db-11dc-400a-930c-3cc36decbe29"
      },
      "source": [
        "c = gis.generate_signature('https://upload.wikimedia.org/wikipedia/commons/e/e0/Caravaggio_-_Cena_in_Emmaus.jpg')\n",
        "gis.normalized_distance(a, c)"
      ],
      "execution_count": null,
      "outputs": [
        {
          "output_type": "execute_result",
          "data": {
            "text/plain": [
              "0.6838367407474741"
            ]
          },
          "metadata": {
            "tags": []
          },
          "execution_count": 9
        }
      ]
    },
    {
      "cell_type": "code",
      "metadata": {
        "id": "B0BbrwpnTB-N",
        "colab_type": "code",
        "colab": {
          "base_uri": "https://localhost:8080/",
          "height": 34
        },
        "outputId": "92913019-1a44-449d-a5ea-38325fed4111"
      },
      "source": [
        "d = gis.generate_signature('https://c2.staticflickr.com/8/7158/6814444991_08d82de57e_z.jpg')\n",
        "gis.normalized_distance(a, d)"
      ],
      "execution_count": null,
      "outputs": [
        {
          "output_type": "execute_result",
          "data": {
            "text/plain": [
              "0.424549547059671"
            ]
          },
          "metadata": {
            "tags": []
          },
          "execution_count": 10
        }
      ]
    },
    {
      "cell_type": "code",
      "metadata": {
        "id": "bLuLYwi2TKFA",
        "colab_type": "code",
        "colab": {}
      },
      "source": [
        "def is_duplicate(n_dist, threshold = 0.40):\n",
        "  return n_dist <= threshold"
      ],
      "execution_count": null,
      "outputs": []
    },
    {
      "cell_type": "code",
      "metadata": {
        "id": "XqePkCMJTX5C",
        "colab_type": "code",
        "colab": {
          "base_uri": "https://localhost:8080/",
          "height": 34
        },
        "outputId": "0567deca-8a5e-4624-ac37-65540166cda2"
      },
      "source": [
        "is_duplicate(gis.normalized_distance(a, d))"
      ],
      "execution_count": null,
      "outputs": [
        {
          "output_type": "execute_result",
          "data": {
            "text/plain": [
              "False"
            ]
          },
          "metadata": {
            "tags": []
          },
          "execution_count": 14
        }
      ]
    }
  ]
}